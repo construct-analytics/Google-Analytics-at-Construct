{
 "cells": [
  {
   "cell_type": "code",
   "execution_count": 1,
   "metadata": {},
   "outputs": [],
   "source": [
    "from selenium import webdriver\n",
    "from selenium.webdriver.common.keys import Keys\n",
    "from selenium.webdriver.common.action_chains import ActionChains\n",
    "\n",
    "from bs4 import BeautifulSoup\n",
    "import pandas as pd \n",
    "import numpy as np \n",
    "import time\n",
    "import urllib\n",
    "import re\n",
    "import os\n",
    "from random import randint"
   ]
  },
  {
   "cell_type": "code",
   "execution_count": null,
   "metadata": {},
   "outputs": [],
   "source": [
    "# Read in the excel sheet of phone models and counts.\n",
    "# Remember to change the name of the excel sheet to whatever you saved it as\n",
    "\n",
    "import datetime\n",
    "today1 = datetime.date.today()\n",
    "today = today1.strftime('%b_%Y')\n",
    "\n",
    "excelfile = 'phone data' + today + '.xlsx'\n",
    "\n",
    "df = pd.read_excel(excelfile, sheet_name = 'To match')"
   ]
  },
  {
   "cell_type": "code",
   "execution_count": null,
   "metadata": {},
   "outputs": [],
   "source": [
    "# Take the \"Models\" column\n",
    "names = df['Model']"
   ]
  },
  {
   "cell_type": "code",
   "execution_count": null,
   "metadata": {},
   "outputs": [],
   "source": [
    "# Preallocate the list of information that we need\n",
    "listofinfo = []"
   ]
  },
  {
   "cell_type": "code",
   "execution_count": null,
   "metadata": {},
   "outputs": [],
   "source": [
    "# Open browser\n",
    "browser = webdriver.Chrome()\n",
    "browser.get(\"https://google.com\")"
   ]
  },
  {
   "cell_type": "code",
   "execution_count": null,
   "metadata": {},
   "outputs": [],
   "source": [
    "# The scraping process\n",
    "for i in range(0,len(names)):\n",
    "    list1 = []\n",
    "    #this searches the term\n",
    "    searchbar = browser.find_element_by_name(\"q\") # Finding the search bar\n",
    "    time.sleep(randint(5,33)) \n",
    "    searchbar.clear() #clears search bar\n",
    "    time.sleep(randint(6,28)) \n",
    "    searchbar.send_keys('site:gsmarena.com ') \n",
    "    searchbar.send_keys(names[i])\n",
    "    searchbar.send_keys(' specifications')\n",
    "    searchbar.send_keys(Keys.RETURN)\n",
    "    time.sleep(randint(5,24))\n",
    "    \n",
    "    try: # Try to click the first result if it is there\n",
    "        \n",
    "        # This clicks the first result\n",
    "        browser.find_elements_by_class_name('r')[0].click()\n",
    "        time.sleep(randint(6,18))\n",
    "        try: #we try to get the required info if its there\n",
    "            \n",
    "            # This gets model name\n",
    "            modelname = browser.find_element_by_css_selector('h1[data-spec = \\'modelname\\']')\n",
    "            list1.append(names[i]) # Appends the name used for search\n",
    "            list1.append(modelname.text)\n",
    "        \n",
    "        except:\n",
    "            list1.append(names[i]) # Appends the name used for search if information is not there\n",
    "            list1.append('')\n",
    "            \n",
    "        try:\n",
    "            # This gets size\n",
    "            dispsize = browser.find_element_by_css_selector('td[data-spec = \\'displaysize\\']')\n",
    "            \n",
    "            # Changed to split by ' ' to get the number only instead of 'number inches'\n",
    "            list1.append(dispsize.text.split(' ')[0])\n",
    "        except:\n",
    "            list1.append('')\n",
    "            \n",
    "        try:\n",
    "            # This gets resolution\n",
    "            dispreso = browser.find_element_by_css_selector('td[data-spec = \\'displayresolution\\']')\n",
    "            list1.append(dispreso.text.split(',')[0])\n",
    "            \n",
    "        except:\n",
    "            list1.append('')\n",
    "            \n",
    "        try:\n",
    "            # This gets OS\n",
    "            os = browser.find_element_by_css_selector('td[data-spec = \\'os\\']')\n",
    "            \n",
    "            if 'Android' in os.text:\n",
    "                list1.append('Android')\n",
    "            elif 'iOS' in os.text:\n",
    "                list1.append('iOS')\n",
    "            elif 'Microsoft' in os.text:\n",
    "                list1.append('Microsoft')\n",
    "            else:\n",
    "                list1.append(os.text)\n",
    "        except:\n",
    "            list1.append('')\n",
    "            \n",
    "        try:\n",
    "            # This gets price\n",
    "            price = browser.find_element_by_css_selector('td[data-spec = \\'price\\']')\n",
    "            \n",
    "            # Change to get only the value\n",
    "            list1.append(price.text.split(' ')[1])\n",
    "            list1.append('')\n",
    "            \n",
    "        except:\n",
    "            list1.append('')\n",
    "            list1.append('')\n",
    "    \n",
    "    \n",
    "    except:\n",
    "        list1.append(names[i])\n",
    "        list1.append('')\n",
    "        list1.append('')\n",
    "        list1.append('')\n",
    "        list1.append('')\n",
    "        list1.append('')\n",
    "        list1.append('phone info not found')\n",
    "    \n",
    "    # Put the info of model into the listofinfo\n",
    "    print(list1)\n",
    "    listofinfo.append(list1)\n",
    "    \n",
    "    browser.back()\n",
    "    time.sleep(randint(38,147))"
   ]
  },
  {
   "cell_type": "code",
   "execution_count": null,
   "metadata": {},
   "outputs": [],
   "source": [
    "newdf = pd.DataFrame(listofinfo, columns = ['Model', 'Scraped Model', 'Size (Inches)', 'Resolution', \n",
    "                                            'OS', 'Price (EUR)', 'Note'])\n",
    "\n",
    "newdf1 = newdf.set_index('Model')"
   ]
  },
  {
   "cell_type": "code",
   "execution_count": null,
   "metadata": {},
   "outputs": [],
   "source": [
    "newdf1['Size (Inches)'] = pd.to_numeric(newdf1['Size (Inches)'], errors = 'ignore')"
   ]
  },
  {
   "cell_type": "code",
   "execution_count": null,
   "metadata": {},
   "outputs": [],
   "source": []
  },
  {
   "cell_type": "code",
   "execution_count": null,
   "metadata": {},
   "outputs": [],
   "source": [
    "# Scrape brand and device type\n",
    "\n",
    "# To get brand\n",
    "newdf1['Brands'] = None\n",
    "\n",
    "for i in range(0,len(newdf1.index)):\n",
    "    brand = newdf1.index[i].split()[0]\n",
    "    newdf1.at[newdf1.index[i],'Brands'] = brand\n",
    "    \n",
    "# To get type\n",
    "newdf1['Type'] = None\n",
    "\n",
    "for i in range(0,len(newdf1.index)):\n",
    "    if pd.notna(newdf1.at[newdf1.index[i], 'Size (Inches)']) :\n",
    "        if newdf1.at[newdf1.index[i], 'Size (Inches)'] >= 7:\n",
    "            newdf1.at[newdf1.index[i], 'Type'] = 'Tablet'\n",
    "        else:\n",
    "            newdf1.at[newdf1.index[i], 'Type'] = 'Phone'\n",
    "    else:\n",
    "        newdf1.at[newdf1.index[i], 'Type'] = ''\n",
    "    "
   ]
  },
  {
   "cell_type": "code",
   "execution_count": null,
   "metadata": {},
   "outputs": [],
   "source": [
    "# Save on new sheet on master list, check manually for errors\n",
    "from openpyxl import load_workbook\n",
    "\n",
    "sheetname = 'scraped phone specs'\n",
    "\n",
    "writer = pd.ExcelWriter(excelfile, engine = 'openpyxl')\n",
    "writer.book = load_workbook(exclfile)\n",
    "\n",
    "newdf1.to_excel(writer, sheet_name = sheetname)\n",
    "\n",
    "writer.save()\n",
    "writer.close()"
   ]
  }
 ],
 "metadata": {
  "kernelspec": {
   "display_name": "Python 2",
   "language": "python",
   "name": "python2"
  },
  "language_info": {
   "codemirror_mode": {
    "name": "ipython",
    "version": 2
   },
   "file_extension": ".py",
   "mimetype": "text/x-python",
   "name": "python",
   "nbconvert_exporter": "python",
   "pygments_lexer": "ipython2",
   "version": "2.7.15"
  }
 },
 "nbformat": 4,
 "nbformat_minor": 2
}
